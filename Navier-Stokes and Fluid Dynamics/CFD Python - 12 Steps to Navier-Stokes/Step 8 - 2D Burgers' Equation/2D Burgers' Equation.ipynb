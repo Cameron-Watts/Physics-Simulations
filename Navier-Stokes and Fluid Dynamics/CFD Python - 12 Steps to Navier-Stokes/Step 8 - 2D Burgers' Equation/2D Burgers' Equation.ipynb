{
 "cells": [
  {
   "cell_type": "markdown",
   "metadata": {},
   "source": [
    "Compared to the 1 Dimensional Burgers' equation, the 2D version is a bit more involved. The one-dimensional version is as follows:\n",
    "\n",
    "$$\\frac{\\delta u}{\\delta t} + u \\frac{\\delta u}{\\delta x} = v \\frac{\\delta ^2 u}{\\delta x^2}$$\n",
    "\n",
    "And the two-dimensional version has 2 PDEs, as we must calculate the updated velocity in the x and y direction. In this case, the viscosity is represented as the letter eta ($\\eta$). The equations are shown below:\n",
    "\n",
    "$$\\frac{\\delta u}{\\delta t} + u \\frac{\\delta u}{\\delta x} + v \\frac{\\delta u}{\\delta y} = \\eta (\\frac{\\delta ^2 u}{\\delta x^2} \\frac{\\delta ^2 u}{\\delta y^2})$$\n",
    "\n",
    "And \n",
    "\n",
    "$$\\frac{\\delta v}{\\delta t} + u \\frac{\\delta v}{\\delta x} + v \\frac{\\delta v}{\\delta y} = \\eta (\\frac{\\delta ^2 v}{\\delta x^2} \\frac{\\delta ^2 v}{\\delta y^2})$$\n"
   ]
  },
  {
   "cell_type": "markdown",
   "metadata": {},
   "source": [
    "These equations can be discretised and solved:\n",
    "\n",
    "$$u_{i,j}^{n+1} = u_{i,j}^n - u_{i,j}^n \\frac{\\Delta t}{\\Delta x}(u_{i,j}^n - u_{i-1,j}^n) + \\eta \\frac{\\Delta t}{\\Delta x^2}(u_{i+1,j}^n - 2u_{i,j}^n + u_{i-1,j}^n) - v_{i,j}^n \\frac{\\Delta t}{\\Delta y}(u_{i,j}^n - u_{i,j-1}^n) + \\eta \\frac{\\Delta t}{\\Delta y^2}(u_{i,j+1}^n - 2u_{i,j}^n + u_{i,j-1}^n)$$\n",
    "\n",
    "$$v_{i,j}^{n+1} = v_{i,j}^n - u_{i,j}^n \\frac{\\Delta t}{\\Delta x}(v_{i,j}^n - v_{i-1,j}^n) + \\eta \\frac{\\Delta t}{\\Delta x^2}(v_{i+1,j}^n - 2v_{i,j}^n + v_{i-1,j}^n) - v_{i,j}^n \\frac{\\Delta t}{\\Delta y}(v_{i,j}^n - v_{i,j-1}^n) + \\eta \\frac{\\Delta t}{\\Delta y^2}(v_{i,j+1}^n - 2v_{i,j}^n + v_{i,j-1}^n)$$"
   ]
  },
  {
   "cell_type": "markdown",
   "metadata": {},
   "source": [
    "As for the previous few steps, the same initial and boundary conditions are used"
   ]
  },
  {
   "cell_type": "code",
   "execution_count": null,
   "metadata": {},
   "outputs": [],
   "source": [
    "#Importing packages\n",
    "\n",
    "#Plotting library that is new to me\n",
    "from mpl_toolkits.mplot3d import Axes3D\n",
    "\n",
    "import numpy as np\n",
    "import matplotlib.pyplot as plt\n",
    "from matplotlib import cm"
   ]
  },
  {
   "cell_type": "code",
   "execution_count": null,
   "metadata": {},
   "outputs": [],
   "source": [
    "#Declare parameter variables\n",
    "\n",
    "nx = 41 #Number of x points\n",
    "ny = 41 #Number of y points\n",
    "steps = 120 #Number of time steps to simulate\n",
    "dx = 2 / (nx - 1) #Difference in x between x points\n",
    "dy = 2 / (ny - 1) #Difference in y between y points\n",
    "sigma = 0.0009 #Not sure yet - defines the time step\n",
    "dt = sigma * dx #Difference in time between time steps\n",
    "vis = 0.01\n",
    "\n",
    "#Create grid\n",
    "x = np.linspace(0, 2, nx)\n",
    "y = np.linspace(0, 2, ny)\n",
    "\n",
    "#Holds current grid conditions in a matrix\n",
    "u = np.ones((ny, nx))\n",
    "v = np.ones((ny, nx))"
   ]
  },
  {
   "cell_type": "code",
   "execution_count": null,
   "metadata": {},
   "outputs": [],
   "source": [
    "#Initial conditions\n",
    "\n",
    "u[int(.5 / dy):int(1 / dy + 1),int(.5 / dx):int(1 / dx + 1)] = 2 \n",
    "v[int(.5 / dy):int(1 / dy + 1),int(.5 / dx):int(1 / dx + 1)] = 2 \n",
    "\n",
    "#Display intial condition\n",
    "fig = plt.figure(figsize=(11, 7), dpi=100)\n",
    "ax = fig.gca(projection='3d')                      \n",
    "X, Y = np.meshgrid(x, y)                            \n",
    "surf = ax.plot_surface(X, Y, u[:], cmap=cm.viridis)"
   ]
  },
  {
   "cell_type": "code",
   "execution_count": null,
   "metadata": {},
   "outputs": [],
   "source": [
    "#Update code\n",
    "def update(u, v, dt, dx, dy, vis):\n",
    "    unext = u.copy()\n",
    "    vnext = v.copy()\n",
    "    \n",
    "    #Update with update rule and numpy matrix operations\n",
    "    unext[1:-1, 1:-1] = (u[1:-1, 1:-1] -\n",
    "                     dt / dx * u[1:-1, 1:-1] * \n",
    "                     (u[1:-1, 1:-1] - u[1:-1, 0:-2]) - \n",
    "                     dt / dy * v[1:-1, 1:-1] * \n",
    "                     (u[1:-1, 1:-1] - u[0:-2, 1:-1]) + \n",
    "                     vis * dt / dx**2 * \n",
    "                     (u[1:-1,2:] - 2 * u[1:-1, 1:-1] + u[1:-1, 0:-2]) + \n",
    "                     vis * dt / dy**2 * \n",
    "                     (u[2:, 1:-1] - 2 * u[1:-1, 1:-1] + u[0:-2, 1:-1]))\n",
    "    \n",
    "    \n",
    "    vnext[1:-1, 1:-1] = (v[1:-1, 1:-1] - \n",
    "                     dt / dx * u[1:-1, 1:-1] *\n",
    "                     (v[1:-1, 1:-1] - v[1:-1, 0:-2]) -\n",
    "                     dt / dy * v[1:-1, 1:-1] * \n",
    "                    (v[1:-1, 1:-1] - v[0:-2, 1:-1]) + \n",
    "                     vis * dt / dx**2 * \n",
    "                     (v[1:-1, 2:] - 2 * v[1:-1, 1:-1] + v[1:-1, 0:-2]) +\n",
    "                     vis * dt / dy**2 *\n",
    "                     (v[2:, 1:-1] - 2 * v[1:-1, 1:-1] + v[0:-2, 1:-1])) \n",
    "    \n",
    "    \n",
    "    #Specify boundary conditions\n",
    "    \n",
    "    unext[0,:] = 1\n",
    "    unext[-1,:] = 1\n",
    "    unext[:,0] = 1\n",
    "    unext[:,-1] = 1\n",
    "    \n",
    "    vnext[0,:] = 1\n",
    "    vnext[-1,:] = 1\n",
    "    vnext[:,0] = 1\n",
    "    vnext[:,-1] = 1\n",
    "    \n",
    "    return unext, vnext"
   ]
  },
  {
   "cell_type": "code",
   "execution_count": null,
   "metadata": {},
   "outputs": [],
   "source": [
    "#Initialising function\n",
    "def initialise(nx, ny, dy, dx):\n",
    "    u = np.ones((nx, ny))\n",
    "    v = np.ones((nx,ny))\n",
    "    u[int(.5 / dy):int(1 / dy + 1),int(.5 / dx):int(1 / dx + 1)] = 2 \n",
    "    v[int(.5 / dy):int(1 / dy + 1),int(.5 / dx):int(1 / dx + 1)] = 2 \n",
    "\n",
    "    \n",
    "    return u, v"
   ]
  },
  {
   "cell_type": "code",
   "execution_count": null,
   "metadata": {},
   "outputs": [],
   "source": [
    "def Burgers(steps, vis=vis, dt=dt, dx=dx, dy=dy, nx=nx, ny=ny):\n",
    "    \n",
    "    #Initialise\n",
    "    u,v = initialise(nx,ny,dy,dx)\n",
    "    \n",
    "    #Update\n",
    "    for i in range(steps):\n",
    "        u,v = update(u, v, dt, dx, dy, vis)\n",
    "        \n",
    "    #Display\n",
    "    fig = plt.figure(figsize=(11, 7), dpi=100)\n",
    "    ax = fig.gca(projection='3d')                      \n",
    "    X, Y = np.meshgrid(x, y)                            \n",
    "    surf = ax.plot_surface(X, Y, u[:], cmap=cm.viridis)"
   ]
  },
  {
   "cell_type": "code",
   "execution_count": null,
   "metadata": {},
   "outputs": [],
   "source": [
    "Burgers(120)"
   ]
  },
  {
   "cell_type": "code",
   "execution_count": null,
   "metadata": {},
   "outputs": [],
   "source": [
    "Burgers(1000)"
   ]
  },
  {
   "cell_type": "code",
   "execution_count": null,
   "metadata": {},
   "outputs": [],
   "source": [
    "Burgers(10000)"
   ]
  },
  {
   "cell_type": "code",
   "execution_count": null,
   "metadata": {},
   "outputs": [],
   "source": []
  }
 ],
 "metadata": {
  "kernelspec": {
   "display_name": "Python 3",
   "language": "python",
   "name": "python3"
  },
  "language_info": {
   "codemirror_mode": {
    "name": "ipython",
    "version": 3
   },
   "file_extension": ".py",
   "mimetype": "text/x-python",
   "name": "python",
   "nbconvert_exporter": "python",
   "pygments_lexer": "ipython3",
   "version": "3.6.12"
  }
 },
 "nbformat": 4,
 "nbformat_minor": 4
}
