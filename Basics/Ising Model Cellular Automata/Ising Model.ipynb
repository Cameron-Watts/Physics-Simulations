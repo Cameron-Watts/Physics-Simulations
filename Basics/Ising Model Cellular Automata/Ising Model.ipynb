{
 "cells": [
  {
   "cell_type": "markdown",
   "metadata": {},
   "source": [
    "# Import"
   ]
  },
  {
   "cell_type": "code",
   "execution_count": 1,
   "metadata": {},
   "outputs": [],
   "source": [
    "import scipy\n",
    "from matplotlib import pyplot as plt\n",
    "import numpy as np"
   ]
  },
  {
   "cell_type": "markdown",
   "metadata": {},
   "source": [
    "# Ising Model Class Code"
   ]
  },
  {
   "cell_type": "code",
   "execution_count": 2,
   "metadata": {},
   "outputs": [],
   "source": [
    "class IsingSimulation:\n",
    "\n",
    "    J = 6.34369e-21  # Interaction constant for iron [Joule]\n",
    "    kB = 1.38065e-23  # Boltzmann constant [Joule / Kelvin]\n",
    "\n",
    "    def __init__(self, size, temperature=300, h=0):\n",
    "        '''\n",
    "        Create a new Ising model simulation. The state is initialized\n",
    "        randomly.\n",
    "\n",
    "        Arguments:\n",
    "\n",
    "            size (int) The number of cells along each dimension of the\n",
    "              square grid.\n",
    "\n",
    "            temperature (float) The temperature in Kelvin at which to\n",
    "              run the simulation. The Curie temperature for iron is\n",
    "              1043 K. Room temperature is about 300 K. Default: 300.\n",
    "              \n",
    "            h (float) The external field applied to the grid\n",
    "        '''\n",
    "        self.size = size\n",
    "        self.temperature = temperature\n",
    "        self.h = h\n",
    "        self.state = scipy.random.choice(\n",
    "            [-1, +1], size=(self.size, self.size))\n",
    "        self.step = 0\n",
    "\n",
    "    def set_temperature(self, temp):\n",
    "        '''\n",
    "        Set the temperature of the model in Kelvin.\n",
    "        '''\n",
    "        \n",
    "        self.temperature = float(temp)\n",
    "        \n",
    "    def set_h(self, temp):\n",
    "        '''\n",
    "        Set the external magnetic field acting on the model\n",
    "        '''\n",
    "        \n",
    "        self.h = temp\n",
    "\n",
    "    def energy(self):\n",
    "        '''\n",
    "        Compute the energy of the current state of the model.\n",
    "        '''\n",
    "        \n",
    "        return ((-self.J * (self.state * (\n",
    "            scipy.roll(self.state, 1, axis=0) +\n",
    "            scipy.roll(self.state, 1, axis=1) +\n",
    "            scipy.roll(self.state, -1, axis=0) +\n",
    "            scipy.roll(self.state, -1, axis=1))).sum()) - \n",
    "               self.h * self.state.sum())\n",
    "\n",
    "    def average_magnetism(self):\n",
    "        '''\n",
    "        Compute the average per-cell magnetism of the current state\n",
    "        of the model.\n",
    "        '''\n",
    "        \n",
    "        return self.state.mean()\n",
    "\n",
    "    def update(self):\n",
    "        '''\n",
    "        Do a single cell update of the model state.\n",
    "        '''\n",
    "        # Pick a random cell to flip\n",
    "        i, j = scipy.random.randint(self.size, size=2)\n",
    "\n",
    "        # Change in energy from current state to next state\n",
    "        # Calculates the energy for this single cell\n",
    "        delta_E = ((2 * self.J * self.state[i,j] * (\n",
    "            self.state[(i + 1) % self.size, j] +\n",
    "            self.state[(i - 1) % self.size, j] +\n",
    "            self.state[i, (j + 1) % self.size] +\n",
    "            self.state[i, (j - 1) % self.size]))\n",
    "                   + 2 * self.h * self.state[i,j])\n",
    "\n",
    "        # Log probability of changing state\n",
    "        log_p = -delta_E / (self.temperature * self.kB)\n",
    "        \n",
    "        #Determines if the state should be flipped\n",
    "        if scipy.log(scipy.random.uniform(0, 1)) < log_p:\n",
    "            self.state[i,j] = -self.state[i,j]\n",
    "\n",
    "        self.step += 1\n",
    "\n",
    "    def display(self):\n",
    "        '''\n",
    "        Plot the state of the model.\n",
    "        '''\n",
    "        plt.figure()\n",
    "        plt.imshow(self.state, vmin=-1, vmax=+1)\n",
    "        plt.title('Step: ' + str(self.step) + ', M = ' + str(self.average_magnetism()))\n"
   ]
  },
  {
   "cell_type": "markdown",
   "metadata": {},
   "source": [
    "# Example Simulation"
   ]
  },
  {
   "cell_type": "code",
   "execution_count": 3,
   "metadata": {},
   "outputs": [
    {
     "name": "stderr",
     "output_type": "stream",
     "text": [
      "C:\\Users\\Cameron\\Anaconda3\\lib\\site-packages\\ipykernel_launcher.py:83: DeprecationWarning: scipy.log is deprecated and will be removed in SciPy 2.0.0, use numpy.lib.scimath.log instead\n"
     ]
    },
    {
     "name": "stdout",
     "output_type": "stream",
     "text": [
      "0.15625\n"
     ]
    },
    {
     "data": {
      "image/png": "[encoded data removed]",
      "text/plain": [
       "<Figure size 432x288 with 1 Axes>"
      ]
     },
     "metadata": {
      "needs_background": "light"
     },
     "output_type": "display_data"
    }
   ],
   "source": [
    "size = 64\n",
    "sim = IsingSimulation(size, temperature=10)\n",
    "steps = []\n",
    "mags = []\n",
    "\n",
    "for _ in range(10000000):\n",
    "    sim.update()\n",
    "    if _ % 100 == 0:\n",
    "        steps.append(_)\n",
    "        mags.append(sim.average_magnetism())\n",
    "sim.display()\n",
    "plt.figure\n",
    "\n",
    "print(sim.average_magnetism())"
   ]
  },
  {
   "cell_type": "code",
   "execution_count": 4,
   "metadata": {},
   "outputs": [
    {
     "data": {
      "text/plain": [
       "Text(0, 0.5, 'Average magnetisation')"
      ]
     },
     "execution_count": 4,
     "metadata": {},
     "output_type": "execute_result"
    },
    {
     "data": {
      "image/png": "[encoded data removed]",
      "text/plain": [
       "<Figure size 432x288 with 1 Axes>"
      ]
     },
     "metadata": {
      "needs_background": "light"
     },
     "output_type": "display_data"
    }
   ],
   "source": [
    "plt.plot(steps, mags)\n",
    "plt.xlabel(\"Step number\")\n",
    "plt.ylabel(\"Average magnetisation\")"
   ]
  },
  {
   "cell_type": "markdown",
   "metadata": {},
   "source": [
    "# Test Scenario at Different Temperatures"
   ]
  },
  {
   "cell_type": "code",
   "execution_count": 5,
   "metadata": {},
   "outputs": [
    {
     "name": "stderr",
     "output_type": "stream",
     "text": [
      "C:\\Users\\Cameron\\Anaconda3\\lib\\site-packages\\ipykernel_launcher.py:83: DeprecationWarning: scipy.log is deprecated and will be removed in SciPy 2.0.0, use numpy.lib.scimath.log instead\n"
     ]
    }
   ],
   "source": [
    "# Estimating the critical temperature\n",
    "\n",
    "#Defined quantities\n",
    "size = 32\n",
    "h = 0\n",
    "\n",
    "#Storage variables\n",
    "steps = []\n",
    "mags = []\n",
    "\n",
    "#Temperature to be changed\n",
    "temp = [10, 100, 500, 1000, 1500]\n",
    "\n",
    "for i in range(5):\n",
    "    sim = IsingSimulation(size, temperature=temp[i])\n",
    "    steps.append([])\n",
    "    mags.append([])\n",
    "\n",
    "    for _ in range(1000000):\n",
    "        sim.update()\n",
    "        if _ % 100 == 0:\n",
    "            steps[i].append(_)\n",
    "            mags[i].append(sim.average_magnetism())"
   ]
  },
  {
   "cell_type": "code",
   "execution_count": 6,
   "metadata": {},
   "outputs": [
    {
     "data": {
      "image/png": "[encoded data removed]",
      "text/plain": [
       "<Figure size 432x288 with 1 Axes>"
      ]
     },
     "metadata": {
      "needs_background": "light"
     },
     "output_type": "display_data"
    }
   ],
   "source": [
    "#Plot results\n",
    "\n",
    "for i in range(5):\n",
    "    plt.plot(steps[i], mags[i], label=f\"Ising model at: {temp[i]}\")\n",
    "plt.xlabel(\"Step number\")\n",
    "plt.ylabel(\"Average magnetisation\")\n",
    "plt.legend()\n",
    "plt.show()"
   ]
  },
  {
   "cell_type": "markdown",
   "metadata": {},
   "source": [
    "# 3D Ising Model - Layer Visualisation"
   ]
  },
  {
   "cell_type": "code",
   "execution_count": 7,
   "metadata": {},
   "outputs": [],
   "source": [
    "class IsingSimulation3D:\n",
    "\n",
    "    J = 6.34369e-21  # Interaction constant for iron [Joule]\n",
    "    kB = 1.38065e-23  # Boltzmann constant [Joule / Kelvin]\n",
    "\n",
    "    def __init__(self, size, temperature=300, h=0):\n",
    "        '''\n",
    "        Create a new Ising model simulation. The state is initialized\n",
    "        randomly.\n",
    "\n",
    "        Arguments:\n",
    "\n",
    "            size (int) The number of cells along each dimension of the\n",
    "              square grid.\n",
    "\n",
    "            temperature (float) The temperature in Kelvin at which to\n",
    "              run the simulation. The Curie temperature for iron is\n",
    "              1043 K. Room temperature is about 300 K. Default: 300.\n",
    "              \n",
    "            h (float) The external field applied to the grid\n",
    "        '''\n",
    "        self.size = size\n",
    "        self.temperature = temperature\n",
    "        self.h = h\n",
    "        self.state = scipy.random.choice(\n",
    "            [-1, +1], size=(self.size, self.size, self.size))\n",
    "        self.step = 0\n",
    "\n",
    "    def set_temperature(self, temp):\n",
    "        '''\n",
    "        Set the temperature of the model in Kelvin.\n",
    "        '''\n",
    "        \n",
    "        self.temperature = float(temp)\n",
    "        \n",
    "    def set_h(self, temp):\n",
    "        '''\n",
    "        Set the external magnetic field acting on the model\n",
    "        '''\n",
    "        \n",
    "        self.h = temp\n",
    "\n",
    "    def energy(self):\n",
    "        '''\n",
    "        Compute the energy of the current state of the model.\n",
    "        '''\n",
    "        \n",
    "        return ((-self.J * (self.state * (\n",
    "            scipy.roll(self.state, 1, axis=0) +\n",
    "            scipy.roll(self.state, 1, axis=1) +\n",
    "            scipy.roll(self.state, -1, axis=0) +\n",
    "            scipy.roll(self.state, -1, axis=1) + \n",
    "            scipy.roll(self.state, 1, axis=2) +\n",
    "            scipy.roll(self.state, -1, axis=2))).sum()) - \n",
    "               self.h * self.state.sum())\n",
    "\n",
    "    def average_magnetism(self):\n",
    "        '''\n",
    "        Compute the average per-cell magnetism of the current state\n",
    "        of the model.\n",
    "        '''\n",
    "        \n",
    "        return self.state.mean()\n",
    "\n",
    "    def update(self):\n",
    "        '''\n",
    "        Do a single cell update of the model state.\n",
    "        '''\n",
    "        # Pick a random cell to flip\n",
    "        i, j, k = scipy.random.randint(self.size, size=3)\n",
    "\n",
    "        # Change in energy from current state to next state\n",
    "        # Calculates the energy for this single cell\n",
    "        delta_E = ((2 * self.J * self.state[i,j,k] * (\n",
    "            self.state[(i + 1) % self.size, j, k] +\n",
    "            self.state[(i - 1) % self.size, j, k] +\n",
    "            self.state[i, (j + 1) % self.size, k] +\n",
    "            self.state[i, (j - 1) % self.size, k] + \n",
    "            self.state[i, j, (k + 1) % self.size] +\n",
    "            self.state[i, j, (k - 1) % self.size]))\n",
    "                   + 2 * self.h * self.state[i,j,k])    \n",
    "        \n",
    "        \n",
    "        # Log probability of changing state\n",
    "        log_p = -delta_E / (self.temperature * self.kB)\n",
    "        \n",
    "        #Determines if the state should be flipped\n",
    "        if scipy.log(scipy.random.uniform(0, 1)) < log_p:\n",
    "            self.state[i,j,k] = -self.state[i,j,k]\n",
    "\n",
    "        self.step += 1\n",
    "\n",
    "    def display(self, layer=0):\n",
    "        '''\n",
    "        Plot the state of the model.\n",
    "        '''\n",
    "        plt.figure()\n",
    "        plt.imshow(self.state[:, :, layer], vmin=-1, vmax=+1)\n",
    "        plt.title('Step: ' + str(self.step) + ', M = ' + str(self.average_magnetism()))\n"
   ]
  },
  {
   "cell_type": "code",
   "execution_count": 8,
   "metadata": {},
   "outputs": [
    {
     "name": "stderr",
     "output_type": "stream",
     "text": [
      "C:\\Users\\Cameron\\Anaconda3\\lib\\site-packages\\ipykernel_launcher.py:88: DeprecationWarning: scipy.log is deprecated and will be removed in SciPy 2.0.0, use numpy.lib.scimath.log instead\n"
     ]
    },
    {
     "name": "stdout",
     "output_type": "stream",
     "text": [
      "1.0\n"
     ]
    },
    {
     "data": {
      "image/png": "[encoded data removed]",
      "text/plain": [
       "<Figure size 432x288 with 1 Axes>"
      ]
     },
     "metadata": {
      "needs_background": "light"
     },
     "output_type": "display_data"
    },
    {
     "data": {
      "image/png": "[encoded data removed]",
      "text/plain": [
       "<Figure size 432x288 with 1 Axes>"
      ]
     },
     "metadata": {
      "needs_background": "light"
     },
     "output_type": "display_data"
    }
   ],
   "source": [
    "size = 16\n",
    "t = 900\n",
    "h = 0.5    \n",
    "\n",
    "sim = IsingSimulation3D(size, temperature=t, h = h)\n",
    "layer = size//2\n",
    "steps = []\n",
    "mags = []\n",
    "\n",
    "for _ in range(100000):\n",
    "    sim.update()\n",
    "    if _ % 100 == 0:\n",
    "        steps.append(_)\n",
    "        mags.append(sim.average_magnetism())\n",
    "        \n",
    "        if _ % 100000 == 0:\n",
    "            sim.display(layer)\n",
    "            plt.figure\n",
    "sim.display(layer)\n",
    "plt.figure\n",
    "\n",
    "print(sim.average_magnetism())"
   ]
  },
  {
   "cell_type": "code",
   "execution_count": 9,
   "metadata": {},
   "outputs": [
    {
     "data": {
      "text/plain": [
       "Text(0, 0.5, 'Average magnetisation')"
      ]
     },
     "execution_count": 9,
     "metadata": {},
     "output_type": "execute_result"
    },
    {
     "data": {
      "image/png": "[encoded data removed]",
      "text/plain": [
       "<Figure size 432x288 with 1 Axes>"
      ]
     },
     "metadata": {
      "needs_background": "light"
     },
     "output_type": "display_data"
    }
   ],
   "source": [
    "plt.plot(steps, mags)\n",
    "plt.xlabel(\"Step number\")\n",
    "plt.ylabel(\"Average magnetisation\")"
   ]
  }
 ],
 "metadata": {
  "kernelspec": {
   "display_name": "Python 3",
   "language": "python",
   "name": "python3"
  },
  "language_info": {
   "codemirror_mode": {
    "name": "ipython",
    "version": 3
   },
   "file_extension": ".py",
   "mimetype": "text/x-python",
   "name": "python",
   "nbconvert_exporter": "python",
   "pygments_lexer": "ipython3",
   "version": "3.6.12"
  }
 },
 "nbformat": 4,
 "nbformat_minor": 4
}
